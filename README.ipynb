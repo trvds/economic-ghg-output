{
 "cells": [
  {
   "cell_type": "markdown",
   "metadata": {},
   "source": [
    "# Using Linear Algebra to compute Economic Ouput and Greenhouse Gases Impact"
   ]
  },
  {
   "cell_type": "code",
   "execution_count": 2,
   "metadata": {},
   "outputs": [
    {
     "name": "stderr",
     "output_type": "stream",
     "text": [
      "C:\\Users\\Tiago Vieira da Silv\\AppData\\Local\\Programs\\Python\\Python310\\lib\\site-packages\\openpyxl\\worksheet\\_reader.py:312: UserWarning: Unknown extension is not supported and will be removed\n",
      "  warn(msg)\n"
     ]
    }
   ],
   "source": [
    "import pandas as pd\n",
    "import numpy as np\n",
    "\n",
    "path = 'bb21a10summarytables.xlsx'\n",
    "# Input output table\n",
    "df = pd.read_excel(path,\n",
    "    sheet_name = 22,\n",
    "    usecols = \"C:L\",\n",
    "    header = None,\n",
    "    skiprows = 52,\n",
    "    nrows = 10)\n",
    "z = np.array(df,dtype = float) # £ million\n",
    "\n",
    "# Output por sector\n",
    "dfx = pd.read_excel(path,\n",
    "    sheet_name = 22,\n",
    "    usecols = \"C:L\",\n",
    "    header = None,\n",
    "    skiprows = 75,\n",
    "    nrows = 1)\n",
    "x = np.array(dfx, dtype = float)[0] # £ million\n",
    "\n",
    "# Intensidade de GEE\n",
    "pathe = 'ghgintensity_uk.xlsx'\n",
    "dfem = pd.read_excel(pathe,\n",
    "    sheet_name = 0,\n",
    "    usecols = \"B:X\",\n",
    "    skiprows = 1,\n",
    "    header = None,\n",
    "    nrows = 10)\n",
    "E = np.array(dfem, dtype = float) #Thousand tonnes CO2 /£ million"
   ]
  },
  {
   "cell_type": "markdown",
   "metadata": {},
   "source": [
    "## Excercise a)\n",
    "\n",
    "To calculate the technical coefficient matrix, the inverse of the total output vector is multiplied by an identity matrix, which is then multiplied by the intermediates table. "
   ]
  },
  {
   "cell_type": "code",
   "execution_count": 3,
   "metadata": {},
   "outputs": [],
   "source": [
    "def coef_mat(z, x):\n",
    "    coef = np.dot(z, np.linalg.inv(x * np.identity(len(x))))\n",
    "    return coef"
   ]
  },
  {
   "cell_type": "markdown",
   "metadata": {},
   "source": [
    "## Exercise b)\n",
    "\n",
    "We can then apply the Leontief inverse to obtain the technology matrix — matrix (B), which consists of taking the inverse of an identity matrix minus the technical coefficient matrix ([I — A]^-1).\n",
    "\n",
    "We then sum each column to find out the impact of each sector on GDP."
   ]
  },
  {
   "cell_type": "code",
   "execution_count": 4,
   "metadata": {},
   "outputs": [],
   "source": [
    "def leon(a, dif = 1e-6):\n",
    "    return np.linalg.inv(np.identity(len(a)) - a)\n",
    "\n",
    "def impact_output(a):\n",
    "    return leon(a).sum(axis = 0)\n",
    "\n",
    "def maximo(a):\n",
    "    sector = 1 + np.argmax(impact_output(a))\n",
    "    return \"Sector \" + str(sector)    "
   ]
  },
  {
   "cell_type": "markdown",
   "metadata": {},
   "source": [
    "## Excercise c)\n",
    "\n",
    "We can use the Leontief Inverse matrix to calculate de Greenhouse Gases impact doing the dot sector between the Leontief and a vector with the tons of CO2 emissions per million £."
   ]
  },
  {
   "cell_type": "code",
   "execution_count": 5,
   "metadata": {},
   "outputs": [],
   "source": [
    "def impact_ghg(a, ghg):\n",
    "    return np.dot(ghg, leon(a))/1000"
   ]
  },
  {
   "cell_type": "markdown",
   "metadata": {},
   "source": [
    "## Exercise d)\n",
    "\n",
    "I calculate wellbeing that is caused by each sector using the difference between the economic impact output and greenhouse gases impact."
   ]
  },
  {
   "cell_type": "code",
   "execution_count": 6,
   "metadata": {},
   "outputs": [],
   "source": [
    "def wellbeing(a, ghg, p = 50):\n",
    "    return impact_output(a)-impact_ghg(a, ghg)*p   \n",
    "\n",
    "def maxwell(a, ghg, p = 50):\n",
    "    return \"Sector \" + str(1 + np.argmax(wellbeing(a, ghg, p)))\n",
    "\n",
    "def price_range(a, ghg, p = 50):\n",
    "    default_sector = maxwell(a, ghg, p)\n",
    "    max = p\n",
    "    min = p\n",
    "    for price in range(p, 201):\n",
    "        if (maxwell(a, ghg, price) == default_sector):\n",
    "            max = price\n",
    "    for price in range(p, -1, -1):\n",
    "        if (maxwell(a, ghg, price) == default_sector):\n",
    "            min = price\n",
    "    return  [min, max]   "
   ]
  },
  {
   "cell_type": "markdown",
   "metadata": {},
   "source": [
    "### Computing with 2019 values"
   ]
  },
  {
   "cell_type": "code",
   "execution_count": 8,
   "metadata": {},
   "outputs": [
    {
     "name": "stdout",
     "output_type": "stream",
     "text": [
      "Impact Output:\n",
      "[2.42476711 2.5312143  2.49521541 2.0024569  1.87926231 2.03488466\n",
      " 1.45453925 1.85774875 1.78260567 1.67858368]\n",
      "\n",
      "Sector with the biggest impact: \n",
      "Sector 2\n",
      "\n",
      "Sector that causes the most wellbeing: \n",
      "Sector 3\n",
      "\n",
      "Interval in which the emissions price can change and Sector remains the same: \n",
      "[5, 161]\n"
     ]
    }
   ],
   "source": [
    "# Vector with all GHG in 2019 \n",
    "ghg_2019 = E[:,22] #Thousand tonnes CO2 /£ million\n",
    "a = coef_mat(z, x)\n",
    "\n",
    "print(\"Impact Output:\")\n",
    "print(impact_output(a))\n",
    "print(\"\\nSector with the biggest impact: \")\n",
    "print(maximo(a))\n",
    "print(\"\\nSector that causes the most wellbeing: \")\n",
    "print(maxwell(a, ghg_2019))\n",
    "print(\"\\nInterval in which the emissions price can change and Sector remains the same: \")\n",
    "print(price_range(a, ghg_2019))"
   ]
  }
 ],
 "metadata": {
  "interpreter": {
   "hash": "f5f25a7b763494ee80f58085d27aa329e41105c97c6fdbf5c9285592d6bf1a77"
  },
  "kernelspec": {
   "display_name": "Python 3.9.0 64-bit",
   "language": "python",
   "name": "python3"
  },
  "language_info": {
   "codemirror_mode": {
    "name": "ipython",
    "version": 3
   },
   "file_extension": ".py",
   "mimetype": "text/x-python",
   "name": "python",
   "nbconvert_exporter": "python",
   "pygments_lexer": "ipython3",
   "version": "3.10.0"
  },
  "orig_nbformat": 4
 },
 "nbformat": 4,
 "nbformat_minor": 2
}
